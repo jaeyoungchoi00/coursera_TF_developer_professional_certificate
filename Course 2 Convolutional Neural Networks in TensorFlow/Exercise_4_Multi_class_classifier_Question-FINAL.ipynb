{
 "cells": [
  {
   "cell_type": "code",
   "execution_count": 16,
   "metadata": {
    "colab": {},
    "colab_type": "code",
    "id": "wYtuKeK0dImp"
   },
   "outputs": [],
   "source": [
    "# ATTENTION: Please do not alter any of the provided code in the exercise. Only add your own code where indicated\n",
    "# ATTENTION: Please do not add or remove any cells in the exercise. The grader will check specific cells based on the cell position.\n",
    "# ATTENTION: Please use the provided epoch values when training.\n",
    "\n",
    "import csv\n",
    "import numpy as np\n",
    "import tensorflow as tf\n",
    "from tensorflow.keras.preprocessing.image import ImageDataGenerator\n",
    "from os import getcwd"
   ]
  },
  {
   "cell_type": "code",
   "execution_count": 22,
   "metadata": {
    "colab": {},
    "colab_type": "code",
    "id": "4kxw-_rmcnVu"
   },
   "outputs": [
    {
     "name": "stdout",
     "output_type": "stream",
     "text": [
      "(27455, 28, 28)\n",
      "(27455,)\n",
      "(7172, 28, 28)\n",
      "(7172,)\n"
     ]
    }
   ],
   "source": [
    "def get_data(filename):\n",
    "  # You will need to write code that will read the file passed\n",
    "  # into this function. The first line contains the column headers\n",
    "  # so you should ignore it\n",
    "  # Each successive line contians 785 comma separated values between 0 and 255\n",
    "  # The first value is the label\n",
    "  # The rest are the pixel values for that picture\n",
    "  # The function will return 2 np.array types. One with all the labels\n",
    "  # One with all the images\n",
    "  #\n",
    "  # Tips: \n",
    "  # If you read a full line (as 'row') then row[0] has the label\n",
    "  # and row[1:785] has the 784 pixel values\n",
    "  # Take a look at np.array_split to turn the 784 pixels into 28x28\n",
    "  # You are reading in strings, but need the values to be floats\n",
    "  # Check out np.array().astype for a conversion\n",
    "    with open(filename) as training_file:\n",
    "      # Your code starts here\n",
    "        \n",
    "        labels = []\n",
    "        images = []\n",
    "        training_file.readline()\n",
    "\n",
    "        for line in training_file:\n",
    "            line = line.split(',')\n",
    "            labels.append(line[0])\n",
    "            images.append(np.array_split(line[1:785], 28))\n",
    "\n",
    "        labels = np.asarray(labels).astype(float)\n",
    "        images = np.asarray(images).astype(float)\n",
    "      # Your code ends here\n",
    "    return images, labels\n",
    "\n",
    "path_sign_mnist_train = f\"{getcwd()}/../tmp2/sign_mnist_train.csv\"\n",
    "path_sign_mnist_test = f\"{getcwd()}/../tmp2/sign_mnist_test.csv\"\n",
    "training_images, training_labels = get_data(path_sign_mnist_train)\n",
    "testing_images, testing_labels = get_data(path_sign_mnist_test)\n",
    "\n",
    "# Keep these\n",
    "print(training_images.shape)\n",
    "print(training_labels.shape)\n",
    "print(testing_images.shape)\n",
    "print(testing_labels.shape)\n",
    "\n",
    "# Their output should be:\n",
    "# (27455, 28, 28)\n",
    "# (27455,)\n",
    "# (7172, 28, 28)\n",
    "# (7172,)"
   ]
  },
  {
   "cell_type": "code",
   "execution_count": 24,
   "metadata": {
    "colab": {},
    "colab_type": "code",
    "id": "awoqRpyZdQkD"
   },
   "outputs": [
    {
     "name": "stdout",
     "output_type": "stream",
     "text": [
      "(27455, 28, 28, 1)\n",
      "(7172, 28, 28, 1)\n"
     ]
    }
   ],
   "source": [
    "# In this section you will have to add another dimension to the data\n",
    "# So, for example, if your array is (10000, 28, 28)\n",
    "# You will need to make it (10000, 28, 28, 1)\n",
    "# Hint: np.expand_dims\n",
    "\n",
    "training_images = np.expand_dims(training_images, axis = 3)# Your Code Here\n",
    "testing_images = np.expand_dims(testing_images, axis = 3) # Your Code Here\n",
    "\n",
    "# Create an ImageDataGenerator and do Image Augmentation\n",
    "train_datagen = ImageDataGenerator(\n",
    "                rescale = 1./255,\n",
    "                rotation_range=40,\n",
    "                width_shift_range=0.2,\n",
    "                height_shift_range=0.2,\n",
    "                shear_range=0.2,\n",
    "                zoom_range=0.2,\n",
    "                horizontal_flip=True,\n",
    "                fill_mode='nearest')\n",
    "\n",
    "validation_datagen = ImageDataGenerator(rescale = 1./255)\n",
    "\n",
    "    \n",
    "# Keep These\n",
    "print(training_images.shape)\n",
    "print(testing_images.shape)\n",
    "    \n",
    "# Their output should be:\n",
    "# (27455, 28, 28, 1)\n",
    "# (7172, 28, 28, 1)"
   ]
  },
  {
   "cell_type": "code",
   "execution_count": 36,
   "metadata": {
    "colab": {},
    "colab_type": "code",
    "id": "Rmb7S32cgRqS"
   },
   "outputs": [
    {
     "name": "stdout",
     "output_type": "stream",
     "text": [
      "Epoch 1/20\n",
      "858/858 [==============================] - 57s 67ms/step - loss: 2.8071 - accuracy: 0.1342 - val_loss: 2.0787 - val_accuracy: 0.2793\n",
      "Epoch 2/20\n",
      "858/858 [==============================] - 56s 66ms/step - loss: 2.1104 - accuracy: 0.3187 - val_loss: 1.3584 - val_accuracy: 0.5393\n",
      "Epoch 3/20\n",
      "858/858 [==============================] - 59s 68ms/step - loss: 1.7279 - accuracy: 0.4330 - val_loss: 0.9536 - val_accuracy: 0.6658\n",
      "Epoch 4/20\n",
      "858/858 [==============================] - 59s 69ms/step - loss: 1.5029 - accuracy: 0.5041 - val_loss: 0.9362 - val_accuracy: 0.6658\n",
      "Epoch 5/20\n",
      "858/858 [==============================] - 56s 65ms/step - loss: 1.3588 - accuracy: 0.5467 - val_loss: 0.7802 - val_accuracy: 0.7223\n",
      "Epoch 6/20\n",
      "858/858 [==============================] - 59s 68ms/step - loss: 1.2619 - accuracy: 0.5785 - val_loss: 0.7415 - val_accuracy: 0.7418\n",
      "Epoch 7/20\n",
      "858/858 [==============================] - 62s 72ms/step - loss: 1.1691 - accuracy: 0.6103 - val_loss: 0.6416 - val_accuracy: 0.7667\n",
      "Epoch 8/20\n",
      "858/858 [==============================] - 60s 70ms/step - loss: 1.1262 - accuracy: 0.6174 - val_loss: 0.5298 - val_accuracy: 0.8153\n",
      "Epoch 9/20\n",
      "858/858 [==============================] - 58s 67ms/step - loss: 1.0698 - accuracy: 0.6384 - val_loss: 0.5383 - val_accuracy: 0.8115\n",
      "Epoch 10/20\n",
      "858/858 [==============================] - 75s 87ms/step - loss: 1.0263 - accuracy: 0.6503 - val_loss: 0.5366 - val_accuracy: 0.8098\n",
      "Epoch 11/20\n",
      "858/858 [==============================] - 59s 69ms/step - loss: 0.9636 - accuracy: 0.6740 - val_loss: 0.4297 - val_accuracy: 0.8355\n",
      "Epoch 12/20\n",
      "858/858 [==============================] - 61s 72ms/step - loss: 0.9329 - accuracy: 0.6810 - val_loss: 0.3902 - val_accuracy: 0.8678\n",
      "Epoch 13/20\n",
      "858/858 [==============================] - 61s 71ms/step - loss: 0.8999 - accuracy: 0.6918 - val_loss: 0.4008 - val_accuracy: 0.8568\n",
      "Epoch 14/20\n",
      "858/858 [==============================] - 58s 68ms/step - loss: 0.8832 - accuracy: 0.6979 - val_loss: 0.3930 - val_accuracy: 0.8423\n",
      "Epoch 15/20\n",
      "858/858 [==============================] - 57s 66ms/step - loss: 0.8449 - accuracy: 0.7143 - val_loss: 0.3456 - val_accuracy: 0.8677\n",
      "Epoch 16/20\n",
      "858/858 [==============================] - 58s 68ms/step - loss: 0.8160 - accuracy: 0.7184 - val_loss: 0.3497 - val_accuracy: 0.8685\n",
      "Epoch 17/20\n",
      "858/858 [==============================] - 58s 67ms/step - loss: 0.8265 - accuracy: 0.7195 - val_loss: 0.3048 - val_accuracy: 0.8910\n",
      "Epoch 18/20\n",
      "858/858 [==============================] - 58s 67ms/step - loss: 0.7892 - accuracy: 0.7307 - val_loss: 0.3831 - val_accuracy: 0.8603\n",
      "Epoch 19/20\n",
      "858/858 [==============================] - 57s 67ms/step - loss: 0.7671 - accuracy: 0.7393 - val_loss: 0.2918 - val_accuracy: 0.8917\n",
      "Epoch 20/20\n",
      "858/858 [==============================] - 59s 68ms/step - loss: 0.7594 - accuracy: 0.7411 - val_loss: 0.3056 - val_accuracy: 0.8925\n"
     ]
    },
    {
     "data": {
      "text/plain": [
       "[146.03943703391334, 0.62158394]"
      ]
     },
     "execution_count": 36,
     "metadata": {},
     "output_type": "execute_result"
    }
   ],
   "source": [
    "# Define the model\n",
    "# Use no more than 2 Conv2D and 2 MaxPooling2D\n",
    "model = tf.keras.models.Sequential([\n",
    "\n",
    "    # This is the first convolution\n",
    "    tf.keras.layers.Conv2D(64, (3,3), activation='relu', input_shape=(28, 28, 1)),\n",
    "    tf.keras.layers.MaxPooling2D(2, 2),\n",
    "    # The second convolution\n",
    "    tf.keras.layers.Conv2D(64, (3,3), activation='relu'),\n",
    "    tf.keras.layers.MaxPooling2D(2,2),\n",
    "    # The third convolution\n",
    "    tf.keras.layers.Conv2D(128, (3,3), activation = 'relu'),\n",
    "    tf.keras.layers.MaxPooling2D((2,2)),\n",
    "    # The fourth convolution\n",
    "    # tf.keras.layers.Conv2D(512, (3,3), activation = 'relu'),\n",
    "    # tf.keras.layers.MaxPooling2D((2,2)),    \n",
    "    # Flatten the results to feed into a DNN\n",
    "    tf.keras.layers.Flatten(),\n",
    "    tf.keras.layers.Dropout(0.2),\n",
    "    # 256 neuron hidden layer\n",
    "    tf.keras.layers.Dense(512, activation='relu'),\n",
    "    tf.keras.layers.Dense(25, activation='softmax')\n",
    "    ])\n",
    "\n",
    "# Compile Model. \n",
    "model.compile(loss = 'sparse_categorical_crossentropy', optimizer='adam', metrics=['accuracy'])\n",
    "\n",
    "# Train the Model\n",
    "history = model.fit_generator(train_datagen.flow(training_images, training_labels, batch_size = 32), epochs = 20, verbose = 1,\n",
    "                             validation_data = validation_datagen.flow(testing_images, testing_labels))\n",
    "model.evaluate(testing_images, testing_labels, verbose=0)"
   ]
  },
  {
   "cell_type": "code",
   "execution_count": 37,
   "metadata": {
    "colab": {},
    "colab_type": "code",
    "id": "_Q3Zpr46dsij"
   },
   "outputs": [
    {
     "data": {
      "image/png": "[encoded data removed]",
      "text/plain": [
       "<Figure size 432x288 with 1 Axes>"
      ]
     },
     "metadata": {
      "needs_background": "light"
     },
     "output_type": "display_data"
    },
    {
     "data": {
      "image/png": "[encoded data removed]",
      "text/plain": [
       "<Figure size 432x288 with 1 Axes>"
      ]
     },
     "metadata": {
      "needs_background": "light"
     },
     "output_type": "display_data"
    }
   ],
   "source": [
    "# Plot the chart for accuracy and loss on both training and validation\n",
    "%matplotlib inline\n",
    "import matplotlib.pyplot as plt\n",
    "acc = history.history['accuracy']# Your Code Here\n",
    "val_acc = history.history['val_accuracy']# Your Code Here\n",
    "loss = history.history['loss']# Your Code Here\n",
    "val_loss = history.history['val_loss']# Your Code Here\n",
    "\n",
    "epochs = range(len(acc))\n",
    "\n",
    "plt.plot(epochs, acc, 'r', label='Training accuracy')\n",
    "plt.plot(epochs, val_acc, 'b', label='Validation accuracy')\n",
    "plt.title('Training and validation accuracy')\n",
    "plt.legend()\n",
    "plt.figure()\n",
    "\n",
    "plt.plot(epochs, loss, 'r', label='Training Loss')\n",
    "plt.plot(epochs, val_loss, 'b', label='Validation Loss')\n",
    "plt.title('Training and validation loss')\n",
    "plt.legend()\n",
    "\n",
    "plt.show()"
   ]
  },
  {
   "cell_type": "markdown",
   "metadata": {},
   "source": [
    "# Submission Instructions"
   ]
  },
  {
   "cell_type": "code",
   "execution_count": null,
   "metadata": {},
   "outputs": [],
   "source": [
    "# Now click the 'Submit Assignment' button above."
   ]
  },
  {
   "cell_type": "markdown",
   "metadata": {},
   "source": [
    "# When you're done or would like to take a break, please run the two cells below to save your work and close the Notebook. This will free up resources for your fellow learners. "
   ]
  },
  {
   "cell_type": "code",
   "execution_count": null,
   "metadata": {},
   "outputs": [],
   "source": [
    "%%javascript\n",
    "<!-- Save the notebook -->\n",
    "IPython.notebook.save_checkpoint();"
   ]
  },
  {
   "cell_type": "code",
   "execution_count": null,
   "metadata": {},
   "outputs": [],
   "source": [
    "%%javascript\n",
    "IPython.notebook.session.delete();\n",
    "window.onbeforeunload = null\n",
    "setTimeout(function() { window.close(); }, 1000);"
   ]
  }
 ],
 "metadata": {
  "colab": {
   "name": "Exercise 8 - Question.ipynb",
   "provenance": []
  },
  "coursera": {
   "course_slug": "convolutional-neural-networks-tensorflow",
   "graded_item_id": "8mIh8",
   "launcher_item_id": "gg95t"
  },
  "kernelspec": {
   "display_name": "Python 3",
   "language": "python",
   "name": "python3"
  },
  "language_info": {
   "codemirror_mode": {
    "name": "ipython",
    "version": 3
   },
   "file_extension": ".py",
   "mimetype": "text/x-python",
   "name": "python",
   "nbconvert_exporter": "python",
   "pygments_lexer": "ipython3",
   "version": "3.6.8"
  }
 },
 "nbformat": 4,
 "nbformat_minor": 1
}
